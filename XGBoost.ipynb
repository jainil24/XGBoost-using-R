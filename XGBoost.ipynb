{
 "cells": [
  {
   "cell_type": "code",
   "execution_count": 1,
   "metadata": {},
   "outputs": [
    {
     "name": "stderr",
     "output_type": "stream",
     "text": [
      "Installing package into 'C:/Users/DELL/Documents/R/win-library/3.6'\n",
      "(as 'lib' is unspecified)\n",
      "\n"
     ]
    },
    {
     "name": "stdout",
     "output_type": "stream",
     "text": [
      "package 'xgboost' successfully unpacked and MD5 sums checked\n",
      "\n",
      "The downloaded binary packages are in\n",
      "\tC:\\Users\\DELL\\AppData\\Local\\Temp\\Rtmp6NBRL9\\downloaded_packages\n"
     ]
    }
   ],
   "source": [
    "install.packages('xgboost')"
   ]
  },
  {
   "cell_type": "code",
   "execution_count": 3,
   "metadata": {},
   "outputs": [],
   "source": [
    "library(xgboost)\n",
    "library(magrittr)\n",
    "library(dplyr)\n",
    "library(Matrix)"
   ]
  },
  {
   "cell_type": "code",
   "execution_count": 4,
   "metadata": {},
   "outputs": [
    {
     "data": {
      "text/html": [
       "<table>\n",
       "<caption>A data.frame: 6 × 4</caption>\n",
       "<thead>\n",
       "\t<tr><th></th><th scope=col>admit</th><th scope=col>gre</th><th scope=col>gpa</th><th scope=col>rank</th></tr>\n",
       "\t<tr><th></th><th scope=col>&lt;int&gt;</th><th scope=col>&lt;int&gt;</th><th scope=col>&lt;dbl&gt;</th><th scope=col>&lt;int&gt;</th></tr>\n",
       "</thead>\n",
       "<tbody>\n",
       "\t<tr><th scope=row>1</th><td>0</td><td>380</td><td>3.61</td><td>3</td></tr>\n",
       "\t<tr><th scope=row>2</th><td>1</td><td>660</td><td>3.67</td><td>3</td></tr>\n",
       "\t<tr><th scope=row>3</th><td>1</td><td>800</td><td>4.00</td><td>1</td></tr>\n",
       "\t<tr><th scope=row>4</th><td>1</td><td>640</td><td>3.19</td><td>4</td></tr>\n",
       "\t<tr><th scope=row>5</th><td>0</td><td>520</td><td>2.93</td><td>4</td></tr>\n",
       "\t<tr><th scope=row>6</th><td>1</td><td>760</td><td>3.00</td><td>2</td></tr>\n",
       "</tbody>\n",
       "</table>\n"
      ],
      "text/latex": [
       "A data.frame: 6 × 4\n",
       "\\begin{tabular}{r|llll}\n",
       "  & admit & gre & gpa & rank\\\\\n",
       "  & <int> & <int> & <dbl> & <int>\\\\\n",
       "\\hline\n",
       "\t1 & 0 & 380 & 3.61 & 3\\\\\n",
       "\t2 & 1 & 660 & 3.67 & 3\\\\\n",
       "\t3 & 1 & 800 & 4.00 & 1\\\\\n",
       "\t4 & 1 & 640 & 3.19 & 4\\\\\n",
       "\t5 & 0 & 520 & 2.93 & 4\\\\\n",
       "\t6 & 1 & 760 & 3.00 & 2\\\\\n",
       "\\end{tabular}\n"
      ],
      "text/markdown": [
       "\n",
       "A data.frame: 6 × 4\n",
       "\n",
       "| <!--/--> | admit &lt;int&gt; | gre &lt;int&gt; | gpa &lt;dbl&gt; | rank &lt;int&gt; |\n",
       "|---|---|---|---|---|\n",
       "| 1 | 0 | 380 | 3.61 | 3 |\n",
       "| 2 | 1 | 660 | 3.67 | 3 |\n",
       "| 3 | 1 | 800 | 4.00 | 1 |\n",
       "| 4 | 1 | 640 | 3.19 | 4 |\n",
       "| 5 | 0 | 520 | 2.93 | 4 |\n",
       "| 6 | 1 | 760 | 3.00 | 2 |\n",
       "\n"
      ],
      "text/plain": [
       "  admit gre gpa  rank\n",
       "1 0     380 3.61 3   \n",
       "2 1     660 3.67 3   \n",
       "3 1     800 4.00 1   \n",
       "4 1     640 3.19 4   \n",
       "5 0     520 2.93 4   \n",
       "6 1     760 3.00 2   "
      ]
     },
     "metadata": {},
     "output_type": "display_data"
    },
    {
     "name": "stdout",
     "output_type": "stream",
     "text": [
      "'data.frame':\t400 obs. of  4 variables:\n",
      " $ admit: int  0 1 1 1 0 1 1 0 1 0 ...\n",
      " $ gre  : int  380 660 800 640 520 760 560 400 540 700 ...\n",
      " $ gpa  : num  3.61 3.67 4 3.19 2.93 3 2.98 3.08 3.39 3.92 ...\n",
      " $ rank : int  3 3 1 4 4 2 1 2 3 2 ...\n"
     ]
    }
   ],
   "source": [
    "data <- read.csv('binary.csv' , header = TRUE)\n",
    "head(data)\n",
    "str(data)"
   ]
  },
  {
   "cell_type": "code",
   "execution_count": 64,
   "metadata": {},
   "outputs": [
    {
     "name": "stdout",
     "output_type": "stream",
     "text": [
      "'data.frame':\t400 obs. of  4 variables:\n",
      " $ admit: num  0 1 1 1 0 1 1 0 1 0 ...\n",
      " $ gre  : int  380 660 800 640 520 760 560 400 540 700 ...\n",
      " $ gpa  : num  3.61 3.67 4 3.19 2.93 3 2.98 3.08 3.39 3.92 ...\n",
      " $ rank : Factor w/ 4 levels \"1\",\"2\",\"3\",\"4\": 3 3 1 4 4 2 1 2 3 2 ...\n"
     ]
    }
   ],
   "source": [
    "data$admit <- factor(data$admit)\n",
    "data$rank <- factor(data$rank)\n",
    "data$admit <- as.numeric(levels(data$admit))[data$admit]\n",
    "str(data)"
   ]
  },
  {
   "cell_type": "code",
   "execution_count": 65,
   "metadata": {},
   "outputs": [
    {
     "data": {
      "text/html": [
       "<style>\n",
       ".list-inline {list-style: none; margin:0; padding: 0}\n",
       ".list-inline>li {display: inline-block}\n",
       ".list-inline>li:not(:last-child)::after {content: \"\\00b7\"; padding: 0 .5ex}\n",
       "</style>\n",
       "<ol class=list-inline><li>325</li><li>4</li></ol>\n"
      ],
      "text/latex": [
       "\\begin{enumerate*}\n",
       "\\item 325\n",
       "\\item 4\n",
       "\\end{enumerate*}\n"
      ],
      "text/markdown": [
       "1. 325\n",
       "2. 4\n",
       "\n",
       "\n"
      ],
      "text/plain": [
       "[1] 325   4"
      ]
     },
     "metadata": {},
     "output_type": "display_data"
    },
    {
     "data": {
      "text/html": [
       "<style>\n",
       ".list-inline {list-style: none; margin:0; padding: 0}\n",
       ".list-inline>li {display: inline-block}\n",
       ".list-inline>li:not(:last-child)::after {content: \"\\00b7\"; padding: 0 .5ex}\n",
       "</style>\n",
       "<ol class=list-inline><li>75</li><li>4</li></ol>\n"
      ],
      "text/latex": [
       "\\begin{enumerate*}\n",
       "\\item 75\n",
       "\\item 4\n",
       "\\end{enumerate*}\n"
      ],
      "text/markdown": [
       "1. 75\n",
       "2. 4\n",
       "\n",
       "\n"
      ],
      "text/plain": [
       "[1] 75  4"
      ]
     },
     "metadata": {},
     "output_type": "display_data"
    },
    {
     "name": "stdout",
     "output_type": "stream",
     "text": [
      " num [1:325] 0 1 1 1 1 1 0 1 0 0 ...\n"
     ]
    }
   ],
   "source": [
    "set.seed(1234)\n",
    "ind = sample(2, nrow(data) , replace = TRUE , prob = c(0.8 , 0.2))\n",
    "tdata = data[ind == 1 ,]\n",
    "vdata = data[ind == 2 , ]\n",
    "dim(tdata)\n",
    "dim(vdata)\n",
    "str(tdata$admit)"
   ]
  },
  {
   "cell_type": "code",
   "execution_count": 66,
   "metadata": {},
   "outputs": [],
   "source": [
    "#One hot encoding\n",
    "trainm <- sparse.model.matrix(admit~.-1,data = tdata)"
   ]
  },
  {
   "cell_type": "code",
   "execution_count": 67,
   "metadata": {},
   "outputs": [
    {
     "data": {
      "text/plain": [
       "6 x 6 sparse Matrix of class \"dgCMatrix\"\n",
       "  gre  gpa rank1 rank2 rank3 rank4\n",
       "1 380 3.61     .     .     1     .\n",
       "2 660 3.67     .     .     1     .\n",
       "3 800 4.00     1     .     .     .\n",
       "4 640 3.19     .     .     .     1\n",
       "6 760 3.00     .     1     .     .\n",
       "7 560 2.98     1     .     .     ."
      ]
     },
     "metadata": {},
     "output_type": "display_data"
    }
   ],
   "source": [
    "head(trainm)"
   ]
  },
  {
   "cell_type": "code",
   "execution_count": 68,
   "metadata": {},
   "outputs": [],
   "source": [
    "tdata_label <- tdata[,'admit']\n",
    "tdata_matrix <- xgb.DMatrix(data = as.matrix(trainm) , label = tdata_label)"
   ]
  },
  {
   "cell_type": "code",
   "execution_count": 69,
   "metadata": {},
   "outputs": [],
   "source": [
    "testm <- sparse.model.matrix(admit~.-1,data = vdata)\n",
    "vdata_label <- vdata[,'admit']\n",
    "vdata_matrix <- xgb.DMatrix(data=as.matrix(testm) , label = vdata_label)"
   ]
  },
  {
   "cell_type": "code",
   "execution_count": 70,
   "metadata": {},
   "outputs": [
    {
     "data": {
      "text/html": [
       "2"
      ],
      "text/latex": [
       "2"
      ],
      "text/markdown": [
       "2"
      ],
      "text/plain": [
       "[1] 2"
      ]
     },
     "metadata": {},
     "output_type": "display_data"
    }
   ],
   "source": [
    "#Paramters\n",
    "nc <- length(unique(tdata_label))\n",
    "nc"
   ]
  },
  {
   "cell_type": "code",
   "execution_count": 71,
   "metadata": {},
   "outputs": [
    {
     "data": {
      "text/html": [
       "<style>\n",
       ".list-inline {list-style: none; margin:0; padding: 0}\n",
       ".list-inline>li {display: inline-block}\n",
       ".list-inline>li:not(:last-child)::after {content: \"\\00b7\"; padding: 0 .5ex}\n",
       "</style>\n",
       "<ol class=list-inline><li>0</li><li>1</li></ol>\n"
      ],
      "text/latex": [
       "\\begin{enumerate*}\n",
       "\\item 0\n",
       "\\item 1\n",
       "\\end{enumerate*}\n"
      ],
      "text/markdown": [
       "1. 0\n",
       "2. 1\n",
       "\n",
       "\n"
      ],
      "text/plain": [
       "[1] 0 1"
      ]
     },
     "metadata": {},
     "output_type": "display_data"
    }
   ],
   "source": [
    "head(unique(tdata_label))"
   ]
  },
  {
   "cell_type": "code",
   "execution_count": 73,
   "metadata": {},
   "outputs": [],
   "source": [
    "xgb_params <- list('objective ' = 'multi:softprob',\n",
    "                   'eval_metric' = 'mlogloss',\n",
    "                  'num_class' = nc)"
   ]
  },
  {
   "cell_type": "code",
   "execution_count": 74,
   "metadata": {},
   "outputs": [],
   "source": [
    "watchlist <- list(train = tdata_matrix, test= vdata_matrix)"
   ]
  },
  {
   "cell_type": "code",
   "execution_count": 75,
   "metadata": {},
   "outputs": [
    {
     "name": "stdout",
     "output_type": "stream",
     "text": [
      "[1]\ttrain-mlogloss:0.594324\ttest-mlogloss:0.651085 \n",
      "[2]\ttrain-mlogloss:0.534790\ttest-mlogloss:0.612848 \n",
      "[3]\ttrain-mlogloss:0.483394\ttest-mlogloss:0.595096 \n",
      "[4]\ttrain-mlogloss:0.454567\ttest-mlogloss:0.597930 \n",
      "[5]\ttrain-mlogloss:0.423043\ttest-mlogloss:0.599238 \n",
      "[6]\ttrain-mlogloss:0.385208\ttest-mlogloss:0.595708 \n",
      "[7]\ttrain-mlogloss:0.372651\ttest-mlogloss:0.614298 \n",
      "[8]\ttrain-mlogloss:0.355396\ttest-mlogloss:0.612562 \n",
      "[9]\ttrain-mlogloss:0.345466\ttest-mlogloss:0.632218 \n",
      "[10]\ttrain-mlogloss:0.337584\ttest-mlogloss:0.649025 \n",
      "[11]\ttrain-mlogloss:0.321141\ttest-mlogloss:0.649074 \n",
      "[12]\ttrain-mlogloss:0.312773\ttest-mlogloss:0.664441 \n",
      "[13]\ttrain-mlogloss:0.309722\ttest-mlogloss:0.677517 \n",
      "[14]\ttrain-mlogloss:0.296634\ttest-mlogloss:0.677277 \n",
      "[15]\ttrain-mlogloss:0.284527\ttest-mlogloss:0.689391 \n",
      "[16]\ttrain-mlogloss:0.277117\ttest-mlogloss:0.684779 \n",
      "[17]\ttrain-mlogloss:0.270126\ttest-mlogloss:0.688089 \n",
      "[18]\ttrain-mlogloss:0.265546\ttest-mlogloss:0.701466 \n",
      "[19]\ttrain-mlogloss:0.260600\ttest-mlogloss:0.700824 \n",
      "[20]\ttrain-mlogloss:0.256453\ttest-mlogloss:0.717978 \n",
      "[21]\ttrain-mlogloss:0.250929\ttest-mlogloss:0.718609 \n",
      "[22]\ttrain-mlogloss:0.242707\ttest-mlogloss:0.724423 \n",
      "[23]\ttrain-mlogloss:0.238471\ttest-mlogloss:0.731681 \n",
      "[24]\ttrain-mlogloss:0.233459\ttest-mlogloss:0.730155 \n",
      "[25]\ttrain-mlogloss:0.227988\ttest-mlogloss:0.728484 \n",
      "[26]\ttrain-mlogloss:0.219835\ttest-mlogloss:0.726116 \n",
      "[27]\ttrain-mlogloss:0.213605\ttest-mlogloss:0.732111 \n",
      "[28]\ttrain-mlogloss:0.210453\ttest-mlogloss:0.736513 \n",
      "[29]\ttrain-mlogloss:0.205479\ttest-mlogloss:0.741593 \n",
      "[30]\ttrain-mlogloss:0.199184\ttest-mlogloss:0.733172 \n",
      "[31]\ttrain-mlogloss:0.191293\ttest-mlogloss:0.731860 \n",
      "[32]\ttrain-mlogloss:0.188662\ttest-mlogloss:0.733568 \n",
      "[33]\ttrain-mlogloss:0.184796\ttest-mlogloss:0.736170 \n",
      "[34]\ttrain-mlogloss:0.179961\ttest-mlogloss:0.734115 \n",
      "[35]\ttrain-mlogloss:0.177305\ttest-mlogloss:0.725511 \n",
      "[36]\ttrain-mlogloss:0.175682\ttest-mlogloss:0.735683 \n",
      "[37]\ttrain-mlogloss:0.170574\ttest-mlogloss:0.742145 \n",
      "[38]\ttrain-mlogloss:0.165731\ttest-mlogloss:0.737996 \n",
      "[39]\ttrain-mlogloss:0.162826\ttest-mlogloss:0.738484 \n",
      "[40]\ttrain-mlogloss:0.157599\ttest-mlogloss:0.737389 \n",
      "[41]\ttrain-mlogloss:0.155526\ttest-mlogloss:0.737402 \n",
      "[42]\ttrain-mlogloss:0.151330\ttest-mlogloss:0.735363 \n",
      "[43]\ttrain-mlogloss:0.149537\ttest-mlogloss:0.747170 \n",
      "[44]\ttrain-mlogloss:0.146031\ttest-mlogloss:0.743094 \n",
      "[45]\ttrain-mlogloss:0.144352\ttest-mlogloss:0.746088 \n",
      "[46]\ttrain-mlogloss:0.143068\ttest-mlogloss:0.747172 \n",
      "[47]\ttrain-mlogloss:0.142036\ttest-mlogloss:0.744163 \n",
      "[48]\ttrain-mlogloss:0.140835\ttest-mlogloss:0.750826 \n",
      "[49]\ttrain-mlogloss:0.139641\ttest-mlogloss:0.752630 \n",
      "[50]\ttrain-mlogloss:0.136948\ttest-mlogloss:0.757487 \n",
      "[51]\ttrain-mlogloss:0.135305\ttest-mlogloss:0.760034 \n",
      "[52]\ttrain-mlogloss:0.133389\ttest-mlogloss:0.757275 \n",
      "[53]\ttrain-mlogloss:0.132064\ttest-mlogloss:0.754275 \n",
      "[54]\ttrain-mlogloss:0.129843\ttest-mlogloss:0.756860 \n",
      "[55]\ttrain-mlogloss:0.128410\ttest-mlogloss:0.757140 \n",
      "[56]\ttrain-mlogloss:0.127972\ttest-mlogloss:0.761527 \n",
      "[57]\ttrain-mlogloss:0.126455\ttest-mlogloss:0.762565 \n",
      "[58]\ttrain-mlogloss:0.124876\ttest-mlogloss:0.765913 \n",
      "[59]\ttrain-mlogloss:0.124022\ttest-mlogloss:0.771464 \n",
      "[60]\ttrain-mlogloss:0.123537\ttest-mlogloss:0.778793 \n",
      "[61]\ttrain-mlogloss:0.122750\ttest-mlogloss:0.775988 \n",
      "[62]\ttrain-mlogloss:0.120722\ttest-mlogloss:0.777184 \n",
      "[63]\ttrain-mlogloss:0.119031\ttest-mlogloss:0.773307 \n",
      "[64]\ttrain-mlogloss:0.118473\ttest-mlogloss:0.775605 \n",
      "[65]\ttrain-mlogloss:0.116922\ttest-mlogloss:0.772655 \n",
      "[66]\ttrain-mlogloss:0.114859\ttest-mlogloss:0.774613 \n",
      "[67]\ttrain-mlogloss:0.114263\ttest-mlogloss:0.774168 \n",
      "[68]\ttrain-mlogloss:0.113307\ttest-mlogloss:0.771853 \n",
      "[69]\ttrain-mlogloss:0.111874\ttest-mlogloss:0.776193 \n",
      "[70]\ttrain-mlogloss:0.111036\ttest-mlogloss:0.777659 \n",
      "[71]\ttrain-mlogloss:0.110099\ttest-mlogloss:0.771273 \n",
      "[72]\ttrain-mlogloss:0.108421\ttest-mlogloss:0.771452 \n",
      "[73]\ttrain-mlogloss:0.107680\ttest-mlogloss:0.774453 \n",
      "[74]\ttrain-mlogloss:0.107223\ttest-mlogloss:0.774905 \n",
      "[75]\ttrain-mlogloss:0.105983\ttest-mlogloss:0.780966 \n",
      "[76]\ttrain-mlogloss:0.105145\ttest-mlogloss:0.786020 \n",
      "[77]\ttrain-mlogloss:0.104694\ttest-mlogloss:0.784021 \n",
      "[78]\ttrain-mlogloss:0.103925\ttest-mlogloss:0.786791 \n",
      "[79]\ttrain-mlogloss:0.102773\ttest-mlogloss:0.786294 \n",
      "[80]\ttrain-mlogloss:0.102311\ttest-mlogloss:0.791616 \n",
      "[81]\ttrain-mlogloss:0.099847\ttest-mlogloss:0.797639 \n",
      "[82]\ttrain-mlogloss:0.098553\ttest-mlogloss:0.796077 \n",
      "[83]\ttrain-mlogloss:0.097660\ttest-mlogloss:0.793205 \n",
      "[84]\ttrain-mlogloss:0.096524\ttest-mlogloss:0.800134 \n",
      "[85]\ttrain-mlogloss:0.095765\ttest-mlogloss:0.802955 \n",
      "[86]\ttrain-mlogloss:0.094912\ttest-mlogloss:0.808380 \n",
      "[87]\ttrain-mlogloss:0.094318\ttest-mlogloss:0.807422 \n",
      "[88]\ttrain-mlogloss:0.093423\ttest-mlogloss:0.808523 \n",
      "[89]\ttrain-mlogloss:0.092886\ttest-mlogloss:0.808366 \n",
      "[90]\ttrain-mlogloss:0.092598\ttest-mlogloss:0.814068 \n",
      "[91]\ttrain-mlogloss:0.091697\ttest-mlogloss:0.813045 \n",
      "[92]\ttrain-mlogloss:0.090543\ttest-mlogloss:0.815959 \n",
      "[93]\ttrain-mlogloss:0.089979\ttest-mlogloss:0.814781 \n",
      "[94]\ttrain-mlogloss:0.088689\ttest-mlogloss:0.822758 \n",
      "[95]\ttrain-mlogloss:0.087909\ttest-mlogloss:0.826897 \n",
      "[96]\ttrain-mlogloss:0.087498\ttest-mlogloss:0.830181 \n",
      "[97]\ttrain-mlogloss:0.085682\ttest-mlogloss:0.832040 \n",
      "[98]\ttrain-mlogloss:0.084519\ttest-mlogloss:0.832928 \n",
      "[99]\ttrain-mlogloss:0.083779\ttest-mlogloss:0.833188 \n",
      "[100]\ttrain-mlogloss:0.082495\ttest-mlogloss:0.835784 \n"
     ]
    }
   ],
   "source": [
    "#Modelling\n",
    "xg <- xgb.train(params = xgb_params , data = tdata_matrix , nrounds = 100 , \n",
    "               watchlist = watchlist)"
   ]
  },
  {
   "cell_type": "code",
   "execution_count": 77,
   "metadata": {},
   "outputs": [
    {
     "data": {
      "text/plain": [
       "##### xgb.Booster\n",
       "raw: 275.7 Kb \n",
       "call:\n",
       "  xgb.train(params = xgb_params, data = tdata_matrix, nrounds = 100, \n",
       "    watchlist = watchlist)\n",
       "params (as set within xgb.train):\n",
       "  objective  = \"multi:softprob\", eval_metric = \"mlogloss\", num_class = \"2\", silent = \"1\"\n",
       "xgb.attributes:\n",
       "  niter\n",
       "callbacks:\n",
       "  cb.print.evaluation(period = print_every_n)\n",
       "  cb.evaluation.log()\n",
       "# of features: 6 \n",
       "niter: 100\n",
       "nfeatures : 6 \n",
       "evaluation_log:\n",
       "    iter train_mlogloss test_mlogloss\n",
       "       1       0.594324      0.651085\n",
       "       2       0.534790      0.612848\n",
       "---                                  \n",
       "      99       0.083779      0.833188\n",
       "     100       0.082495      0.835784"
      ]
     },
     "metadata": {},
     "output_type": "display_data"
    }
   ],
   "source": [
    "xg"
   ]
  },
  {
   "cell_type": "code",
   "execution_count": 89,
   "metadata": {},
   "outputs": [
    {
     "data": {
      "image/png": "[encoded data removed]",
      "text/plain": [
       "plot without title"
      ]
     },
     "metadata": {
      "image/png": {
       "height": 420,
       "width": 420
      },
      "text/plain": {
       "height": 420,
       "width": 420
      }
     },
     "output_type": "display_data"
    }
   ],
   "source": [
    "e <- data.frame(xg$evaluation_log)\n",
    "plot(e$iter , e$train_mlogloss , col = 'blue')\n",
    "lines(e$iter , e$test_mlogloss , col = 'red')"
   ]
  },
  {
   "cell_type": "code",
   "execution_count": 91,
   "metadata": {},
   "outputs": [
    {
     "data": {
      "text/html": [
       "0.595096"
      ],
      "text/latex": [
       "0.595096"
      ],
      "text/markdown": [
       "0.595096"
      ],
      "text/plain": [
       "[1] 0.595096"
      ]
     },
     "metadata": {},
     "output_type": "display_data"
    }
   ],
   "source": [
    "min(e$test_mlogloss)"
   ]
  },
  {
   "cell_type": "code",
   "execution_count": 94,
   "metadata": {},
   "outputs": [
    {
     "data": {
      "text/html": [
       "<table>\n",
       "<caption>A data.frame: 1 × 3</caption>\n",
       "<thead>\n",
       "\t<tr><th></th><th scope=col>iter</th><th scope=col>train_mlogloss</th><th scope=col>test_mlogloss</th></tr>\n",
       "\t<tr><th></th><th scope=col>&lt;dbl&gt;</th><th scope=col>&lt;dbl&gt;</th><th scope=col>&lt;dbl&gt;</th></tr>\n",
       "</thead>\n",
       "<tbody>\n",
       "\t<tr><th scope=row>3</th><td>3</td><td>0.483394</td><td>0.595096</td></tr>\n",
       "</tbody>\n",
       "</table>\n"
      ],
      "text/latex": [
       "A data.frame: 1 × 3\n",
       "\\begin{tabular}{r|lll}\n",
       "  & iter & train\\_mlogloss & test\\_mlogloss\\\\\n",
       "  & <dbl> & <dbl> & <dbl>\\\\\n",
       "\\hline\n",
       "\t3 & 3 & 0.483394 & 0.595096\\\\\n",
       "\\end{tabular}\n"
      ],
      "text/markdown": [
       "\n",
       "A data.frame: 1 × 3\n",
       "\n",
       "| <!--/--> | iter &lt;dbl&gt; | train_mlogloss &lt;dbl&gt; | test_mlogloss &lt;dbl&gt; |\n",
       "|---|---|---|---|\n",
       "| 3 | 3 | 0.483394 | 0.595096 |\n",
       "\n"
      ],
      "text/plain": [
       "  iter train_mlogloss test_mlogloss\n",
       "3 3    0.483394       0.595096     "
      ]
     },
     "metadata": {},
     "output_type": "display_data"
    }
   ],
   "source": [
    "e[e$test_mlogloss==0.595096 , ]"
   ]
  },
  {
   "cell_type": "code",
   "execution_count": 96,
   "metadata": {},
   "outputs": [
    {
     "name": "stdout",
     "output_type": "stream",
     "text": [
      "[1]\ttrain-mlogloss:0.674595\ttest-mlogloss:0.684052 \n",
      "[2]\ttrain-mlogloss:0.658466\ttest-mlogloss:0.676982 \n",
      "[3]\ttrain-mlogloss:0.642685\ttest-mlogloss:0.667532 \n",
      "[4]\ttrain-mlogloss:0.628284\ttest-mlogloss:0.660133 \n",
      "[5]\ttrain-mlogloss:0.615050\ttest-mlogloss:0.653341 \n",
      "[6]\ttrain-mlogloss:0.604056\ttest-mlogloss:0.645568 \n",
      "[7]\ttrain-mlogloss:0.592582\ttest-mlogloss:0.640064 \n",
      "[8]\ttrain-mlogloss:0.582170\ttest-mlogloss:0.637070 \n",
      "[9]\ttrain-mlogloss:0.571289\ttest-mlogloss:0.634656 \n",
      "[10]\ttrain-mlogloss:0.561741\ttest-mlogloss:0.630253 \n",
      "[11]\ttrain-mlogloss:0.551731\ttest-mlogloss:0.628331 \n",
      "[12]\ttrain-mlogloss:0.542504\ttest-mlogloss:0.622866 \n",
      "[13]\ttrain-mlogloss:0.533755\ttest-mlogloss:0.618194 \n",
      "[14]\ttrain-mlogloss:0.525246\ttest-mlogloss:0.617723 \n",
      "[15]\ttrain-mlogloss:0.517447\ttest-mlogloss:0.613506 \n",
      "[16]\ttrain-mlogloss:0.509825\ttest-mlogloss:0.613574 \n",
      "[17]\ttrain-mlogloss:0.502859\ttest-mlogloss:0.609476 \n",
      "[18]\ttrain-mlogloss:0.496269\ttest-mlogloss:0.606218 \n",
      "[19]\ttrain-mlogloss:0.489355\ttest-mlogloss:0.606840 \n",
      "[20]\ttrain-mlogloss:0.483546\ttest-mlogloss:0.604335 \n",
      "[21]\ttrain-mlogloss:0.477940\ttest-mlogloss:0.601589 \n",
      "[22]\ttrain-mlogloss:0.472660\ttest-mlogloss:0.603554 \n",
      "[23]\ttrain-mlogloss:0.467709\ttest-mlogloss:0.601737 \n",
      "[24]\ttrain-mlogloss:0.462791\ttest-mlogloss:0.603217 \n",
      "[25]\ttrain-mlogloss:0.457759\ttest-mlogloss:0.602431 \n",
      "[26]\ttrain-mlogloss:0.452025\ttest-mlogloss:0.601008 \n",
      "[27]\ttrain-mlogloss:0.447286\ttest-mlogloss:0.599531 \n",
      "[28]\ttrain-mlogloss:0.442713\ttest-mlogloss:0.601384 \n",
      "[29]\ttrain-mlogloss:0.436665\ttest-mlogloss:0.601275 \n",
      "[30]\ttrain-mlogloss:0.430421\ttest-mlogloss:0.600096 \n",
      "[31]\ttrain-mlogloss:0.424855\ttest-mlogloss:0.601189 \n",
      "[32]\ttrain-mlogloss:0.419261\ttest-mlogloss:0.600852 \n",
      "[33]\ttrain-mlogloss:0.414203\ttest-mlogloss:0.599578 \n",
      "[34]\ttrain-mlogloss:0.409391\ttest-mlogloss:0.598732 \n",
      "[35]\ttrain-mlogloss:0.404361\ttest-mlogloss:0.597642 \n",
      "[36]\ttrain-mlogloss:0.401515\ttest-mlogloss:0.600937 \n",
      "[37]\ttrain-mlogloss:0.397695\ttest-mlogloss:0.601390 \n",
      "[38]\ttrain-mlogloss:0.394715\ttest-mlogloss:0.605061 \n",
      "[39]\ttrain-mlogloss:0.391696\ttest-mlogloss:0.607762 \n",
      "[40]\ttrain-mlogloss:0.388934\ttest-mlogloss:0.610551 \n",
      "[41]\ttrain-mlogloss:0.386231\ttest-mlogloss:0.613116 \n",
      "[42]\ttrain-mlogloss:0.383636\ttest-mlogloss:0.615719 \n",
      "[43]\ttrain-mlogloss:0.381193\ttest-mlogloss:0.618251 \n",
      "[44]\ttrain-mlogloss:0.378891\ttest-mlogloss:0.621451 \n",
      "[45]\ttrain-mlogloss:0.376704\ttest-mlogloss:0.624204 \n",
      "[46]\ttrain-mlogloss:0.374638\ttest-mlogloss:0.627592 \n",
      "[47]\ttrain-mlogloss:0.372433\ttest-mlogloss:0.631762 \n",
      "[48]\ttrain-mlogloss:0.370552\ttest-mlogloss:0.634909 \n",
      "[49]\ttrain-mlogloss:0.368771\ttest-mlogloss:0.638242 \n",
      "[50]\ttrain-mlogloss:0.366839\ttest-mlogloss:0.642697 \n",
      "[51]\ttrain-mlogloss:0.365023\ttest-mlogloss:0.645836 \n",
      "[52]\ttrain-mlogloss:0.363385\ttest-mlogloss:0.648524 \n",
      "[53]\ttrain-mlogloss:0.361754\ttest-mlogloss:0.651874 \n",
      "[54]\ttrain-mlogloss:0.360215\ttest-mlogloss:0.654807 \n",
      "[55]\ttrain-mlogloss:0.358758\ttest-mlogloss:0.658177 \n",
      "[56]\ttrain-mlogloss:0.357375\ttest-mlogloss:0.660911 \n",
      "[57]\ttrain-mlogloss:0.356061\ttest-mlogloss:0.664054 \n",
      "[58]\ttrain-mlogloss:0.355085\ttest-mlogloss:0.666163 \n",
      "[59]\ttrain-mlogloss:0.353857\ttest-mlogloss:0.669077 \n",
      "[60]\ttrain-mlogloss:0.352128\ttest-mlogloss:0.669122 \n",
      "[61]\ttrain-mlogloss:0.350970\ttest-mlogloss:0.672129 \n",
      "[62]\ttrain-mlogloss:0.350100\ttest-mlogloss:0.674397 \n",
      "[63]\ttrain-mlogloss:0.347835\ttest-mlogloss:0.674108 \n",
      "[64]\ttrain-mlogloss:0.346265\ttest-mlogloss:0.674245 \n",
      "[65]\ttrain-mlogloss:0.345036\ttest-mlogloss:0.675887 \n",
      "[66]\ttrain-mlogloss:0.343361\ttest-mlogloss:0.678195 \n",
      "[67]\ttrain-mlogloss:0.342477\ttest-mlogloss:0.681462 \n",
      "[68]\ttrain-mlogloss:0.339530\ttest-mlogloss:0.681365 \n",
      "[69]\ttrain-mlogloss:0.338692\ttest-mlogloss:0.684718 \n",
      "[70]\ttrain-mlogloss:0.335926\ttest-mlogloss:0.684679 \n",
      "[71]\ttrain-mlogloss:0.333322\ttest-mlogloss:0.684691 \n",
      "[72]\ttrain-mlogloss:0.332514\ttest-mlogloss:0.686307 \n",
      "[73]\ttrain-mlogloss:0.330068\ttest-mlogloss:0.686369 \n",
      "[74]\ttrain-mlogloss:0.327887\ttest-mlogloss:0.686098 \n",
      "[75]\ttrain-mlogloss:0.327181\ttest-mlogloss:0.689232 \n",
      "[76]\ttrain-mlogloss:0.325257\ttest-mlogloss:0.689029 \n",
      "[77]\ttrain-mlogloss:0.324533\ttest-mlogloss:0.691260 \n",
      "[78]\ttrain-mlogloss:0.322059\ttest-mlogloss:0.692792 \n",
      "[79]\ttrain-mlogloss:0.321511\ttest-mlogloss:0.694793 \n",
      "[80]\ttrain-mlogloss:0.320585\ttest-mlogloss:0.695442 \n",
      "[81]\ttrain-mlogloss:0.318265\ttest-mlogloss:0.696007 \n",
      "[82]\ttrain-mlogloss:0.316331\ttest-mlogloss:0.696236 \n",
      "[83]\ttrain-mlogloss:0.314384\ttest-mlogloss:0.697028 \n",
      "[84]\ttrain-mlogloss:0.313358\ttest-mlogloss:0.698705 \n",
      "[85]\ttrain-mlogloss:0.311368\ttest-mlogloss:0.697788 \n",
      "[86]\ttrain-mlogloss:0.309793\ttest-mlogloss:0.698183 \n",
      "[87]\ttrain-mlogloss:0.307065\ttest-mlogloss:0.696647 \n",
      "[88]\ttrain-mlogloss:0.305800\ttest-mlogloss:0.698444 \n",
      "[89]\ttrain-mlogloss:0.304122\ttest-mlogloss:0.699178 \n",
      "[90]\ttrain-mlogloss:0.302536\ttest-mlogloss:0.699942 \n",
      "[91]\ttrain-mlogloss:0.300930\ttest-mlogloss:0.700201 \n",
      "[92]\ttrain-mlogloss:0.299742\ttest-mlogloss:0.702003 \n",
      "[93]\ttrain-mlogloss:0.298106\ttest-mlogloss:0.702526 \n",
      "[94]\ttrain-mlogloss:0.296199\ttest-mlogloss:0.701763 \n",
      "[95]\ttrain-mlogloss:0.295262\ttest-mlogloss:0.703287 \n",
      "[96]\ttrain-mlogloss:0.293755\ttest-mlogloss:0.704557 \n",
      "[97]\ttrain-mlogloss:0.291396\ttest-mlogloss:0.705007 \n",
      "[98]\ttrain-mlogloss:0.289136\ttest-mlogloss:0.705150 \n",
      "[99]\ttrain-mlogloss:0.287452\ttest-mlogloss:0.704563 \n",
      "[100]\ttrain-mlogloss:0.285235\ttest-mlogloss:0.704321 \n"
     ]
    },
    {
     "data": {
      "image/png": "[encoded data removed]",
      "text/plain": [
       "plot without title"
      ]
     },
     "metadata": {
      "image/png": {
       "height": 420,
       "width": 420
      },
      "text/plain": {
       "height": 420,
       "width": 420
      }
     },
     "output_type": "display_data"
    }
   ],
   "source": [
    "xg <- xgb.train(params = xgb_params , data = tdata_matrix , nrounds = 100 , \n",
    "               watchlist = watchlist,\n",
    "               eta = 0.05)\n",
    "e <- data.frame(xg$evaluation_log)\n",
    "plot(e$iter , e$train_mlogloss , col = 'blue')\n",
    "lines(e$iter , e$test_mlogloss , col = 'red')"
   ]
  },
  {
   "cell_type": "code",
   "execution_count": 98,
   "metadata": {},
   "outputs": [
    {
     "data": {
      "text/html": [
       "<table>\n",
       "<caption>A data.table: 6 × 4</caption>\n",
       "<thead>\n",
       "\t<tr><th scope=col>Feature</th><th scope=col>Gain</th><th scope=col>Cover</th><th scope=col>Frequency</th></tr>\n",
       "\t<tr><th scope=col>&lt;chr&gt;</th><th scope=col>&lt;dbl&gt;</th><th scope=col>&lt;dbl&gt;</th><th scope=col>&lt;dbl&gt;</th></tr>\n",
       "</thead>\n",
       "<tbody>\n",
       "\t<tr><td>gpa  </td><td>0.57794832</td><td>0.502489494</td><td>0.51784907</td></tr>\n",
       "\t<tr><td>gre  </td><td>0.27566043</td><td>0.327091055</td><td>0.33032083</td></tr>\n",
       "\t<tr><td>rank1</td><td>0.07307141</td><td>0.049605539</td><td>0.04157253</td></tr>\n",
       "\t<tr><td>rank2</td><td>0.03349270</td><td>0.040564666</td><td>0.05512878</td></tr>\n",
       "\t<tr><td>rank4</td><td>0.02877196</td><td>0.071722378</td><td>0.04021690</td></tr>\n",
       "\t<tr><td>rank3</td><td>0.01105517</td><td>0.008526868</td><td>0.01491188</td></tr>\n",
       "</tbody>\n",
       "</table>\n"
      ],
      "text/latex": [
       "A data.table: 6 × 4\n",
       "\\begin{tabular}{llll}\n",
       " Feature & Gain & Cover & Frequency\\\\\n",
       " <chr> & <dbl> & <dbl> & <dbl>\\\\\n",
       "\\hline\n",
       "\t gpa   & 0.57794832 & 0.502489494 & 0.51784907\\\\\n",
       "\t gre   & 0.27566043 & 0.327091055 & 0.33032083\\\\\n",
       "\t rank1 & 0.07307141 & 0.049605539 & 0.04157253\\\\\n",
       "\t rank2 & 0.03349270 & 0.040564666 & 0.05512878\\\\\n",
       "\t rank4 & 0.02877196 & 0.071722378 & 0.04021690\\\\\n",
       "\t rank3 & 0.01105517 & 0.008526868 & 0.01491188\\\\\n",
       "\\end{tabular}\n"
      ],
      "text/markdown": [
       "\n",
       "A data.table: 6 × 4\n",
       "\n",
       "| Feature &lt;chr&gt; | Gain &lt;dbl&gt; | Cover &lt;dbl&gt; | Frequency &lt;dbl&gt; |\n",
       "|---|---|---|---|\n",
       "| gpa   | 0.57794832 | 0.502489494 | 0.51784907 |\n",
       "| gre   | 0.27566043 | 0.327091055 | 0.33032083 |\n",
       "| rank1 | 0.07307141 | 0.049605539 | 0.04157253 |\n",
       "| rank2 | 0.03349270 | 0.040564666 | 0.05512878 |\n",
       "| rank4 | 0.02877196 | 0.071722378 | 0.04021690 |\n",
       "| rank3 | 0.01105517 | 0.008526868 | 0.01491188 |\n",
       "\n"
      ],
      "text/plain": [
       "  Feature Gain       Cover       Frequency \n",
       "1 gpa     0.57794832 0.502489494 0.51784907\n",
       "2 gre     0.27566043 0.327091055 0.33032083\n",
       "3 rank1   0.07307141 0.049605539 0.04157253\n",
       "4 rank2   0.03349270 0.040564666 0.05512878\n",
       "5 rank4   0.02877196 0.071722378 0.04021690\n",
       "6 rank3   0.01105517 0.008526868 0.01491188"
      ]
     },
     "metadata": {},
     "output_type": "display_data"
    }
   ],
   "source": [
    "#Feature importance \n",
    "imp <- xgb.importance(colnames(tdata_matrix) , model = xg)\n",
    "imp"
   ]
  },
  {
   "cell_type": "code",
   "execution_count": 100,
   "metadata": {},
   "outputs": [
    {
     "data": {
      "image/png": "[encoded data removed]",
      "text/plain": [
       "plot without title"
      ]
     },
     "metadata": {
      "image/png": {
       "height": 420,
       "width": 420
      },
      "text/plain": {
       "height": 420,
       "width": 420
      }
     },
     "output_type": "display_data"
    }
   ],
   "source": [
    "xgb.plot.importance(imp)"
   ]
  },
  {
   "cell_type": "code",
   "execution_count": 120,
   "metadata": {},
   "outputs": [
    {
     "data": {
      "text/html": [
       "<style>\n",
       ".list-inline {list-style: none; margin:0; padding: 0}\n",
       ".list-inline>li {display: inline-block}\n",
       ".list-inline>li:not(:last-child)::after {content: \"\\00b7\"; padding: 0 .5ex}\n",
       "</style>\n",
       "<ol class=list-inline><li>0</li><li>0</li><li>0</li><li>1</li><li>0</li><li>1</li><li>0</li><li>0</li><li>0</li><li>0</li><li>0</li><li>0</li><li>0</li><li>0</li><li>1</li><li>0</li><li>0</li><li>1</li><li>0</li><li>0</li><li>0</li><li>0</li><li>1</li><li>0</li><li>1</li><li>0</li><li>0</li><li>0</li><li>0</li><li>1</li><li>1</li><li>0</li><li>0</li><li>0</li><li>0</li><li>0</li><li>0</li><li>0</li><li>0</li><li>0</li><li>0</li><li>0</li><li>0</li><li>0</li><li>0</li><li>0</li><li>1</li><li>0</li><li>1</li><li>0</li><li>0</li><li>1</li><li>1</li><li>0</li><li>0</li><li>0</li><li>0</li><li>0</li><li>0</li><li>1</li><li>0</li><li>0</li><li>0</li><li>0</li><li>0</li><li>0</li><li>0</li><li>0</li><li>0</li><li>1</li><li>0</li><li>0</li><li>0</li><li>0</li><li>0</li></ol>\n"
      ],
      "text/latex": [
       "\\begin{enumerate*}\n",
       "\\item 0\n",
       "\\item 0\n",
       "\\item 0\n",
       "\\item 1\n",
       "\\item 0\n",
       "\\item 1\n",
       "\\item 0\n",
       "\\item 0\n",
       "\\item 0\n",
       "\\item 0\n",
       "\\item 0\n",
       "\\item 0\n",
       "\\item 0\n",
       "\\item 0\n",
       "\\item 1\n",
       "\\item 0\n",
       "\\item 0\n",
       "\\item 1\n",
       "\\item 0\n",
       "\\item 0\n",
       "\\item 0\n",
       "\\item 0\n",
       "\\item 1\n",
       "\\item 0\n",
       "\\item 1\n",
       "\\item 0\n",
       "\\item 0\n",
       "\\item 0\n",
       "\\item 0\n",
       "\\item 1\n",
       "\\item 1\n",
       "\\item 0\n",
       "\\item 0\n",
       "\\item 0\n",
       "\\item 0\n",
       "\\item 0\n",
       "\\item 0\n",
       "\\item 0\n",
       "\\item 0\n",
       "\\item 0\n",
       "\\item 0\n",
       "\\item 0\n",
       "\\item 0\n",
       "\\item 0\n",
       "\\item 0\n",
       "\\item 0\n",
       "\\item 1\n",
       "\\item 0\n",
       "\\item 1\n",
       "\\item 0\n",
       "\\item 0\n",
       "\\item 1\n",
       "\\item 1\n",
       "\\item 0\n",
       "\\item 0\n",
       "\\item 0\n",
       "\\item 0\n",
       "\\item 0\n",
       "\\item 0\n",
       "\\item 1\n",
       "\\item 0\n",
       "\\item 0\n",
       "\\item 0\n",
       "\\item 0\n",
       "\\item 0\n",
       "\\item 0\n",
       "\\item 0\n",
       "\\item 0\n",
       "\\item 0\n",
       "\\item 1\n",
       "\\item 0\n",
       "\\item 0\n",
       "\\item 0\n",
       "\\item 0\n",
       "\\item 0\n",
       "\\end{enumerate*}\n"
      ],
      "text/markdown": [
       "1. 0\n",
       "2. 0\n",
       "3. 0\n",
       "4. 1\n",
       "5. 0\n",
       "6. 1\n",
       "7. 0\n",
       "8. 0\n",
       "9. 0\n",
       "10. 0\n",
       "11. 0\n",
       "12. 0\n",
       "13. 0\n",
       "14. 0\n",
       "15. 1\n",
       "16. 0\n",
       "17. 0\n",
       "18. 1\n",
       "19. 0\n",
       "20. 0\n",
       "21. 0\n",
       "22. 0\n",
       "23. 1\n",
       "24. 0\n",
       "25. 1\n",
       "26. 0\n",
       "27. 0\n",
       "28. 0\n",
       "29. 0\n",
       "30. 1\n",
       "31. 1\n",
       "32. 0\n",
       "33. 0\n",
       "34. 0\n",
       "35. 0\n",
       "36. 0\n",
       "37. 0\n",
       "38. 0\n",
       "39. 0\n",
       "40. 0\n",
       "41. 0\n",
       "42. 0\n",
       "43. 0\n",
       "44. 0\n",
       "45. 0\n",
       "46. 0\n",
       "47. 1\n",
       "48. 0\n",
       "49. 1\n",
       "50. 0\n",
       "51. 0\n",
       "52. 1\n",
       "53. 1\n",
       "54. 0\n",
       "55. 0\n",
       "56. 0\n",
       "57. 0\n",
       "58. 0\n",
       "59. 0\n",
       "60. 1\n",
       "61. 0\n",
       "62. 0\n",
       "63. 0\n",
       "64. 0\n",
       "65. 0\n",
       "66. 0\n",
       "67. 0\n",
       "68. 0\n",
       "69. 0\n",
       "70. 1\n",
       "71. 0\n",
       "72. 0\n",
       "73. 0\n",
       "74. 0\n",
       "75. 0\n",
       "\n",
       "\n"
      ],
      "text/plain": [
       " [1] 0 0 0 1 0 1 0 0 0 0 0 0 0 0 1 0 0 1 0 0 0 0 1 0 1 0 0 0 0 1 1 0 0 0 0 0 0 0\n",
       "[39] 0 0 0 0 0 0 0 0 1 0 1 0 0 1 1 0 0 0 0 0 0 1 0 0 0 0 0 0 0 0 0 1 0 0 0 0 0"
      ]
     },
     "metadata": {},
     "output_type": "display_data"
    }
   ],
   "source": [
    "#Predict \n",
    "p <- predict(xg , newdata = vdata_matrix)\n",
    "p"
   ]
  },
  {
   "cell_type": "code",
   "execution_count": 122,
   "metadata": {},
   "outputs": [
    {
     "data": {
      "text/plain": [
       "Confusion Matrix and Statistics\n",
       "\n",
       "          Reference\n",
       "Prediction  0  1\n",
       "         0 43 18\n",
       "         1  7  7\n",
       "                                          \n",
       "               Accuracy : 0.6667          \n",
       "                 95% CI : (0.5483, 0.7714)\n",
       "    No Information Rate : 0.6667          \n",
       "    P-Value [Acc > NIR] : 0.5540          \n",
       "                                          \n",
       "                  Kappa : 0.1573          \n",
       "                                          \n",
       " Mcnemar's Test P-Value : 0.0455          \n",
       "                                          \n",
       "            Sensitivity : 0.8600          \n",
       "            Specificity : 0.2800          \n",
       "         Pos Pred Value : 0.7049          \n",
       "         Neg Pred Value : 0.5000          \n",
       "             Prevalence : 0.6667          \n",
       "         Detection Rate : 0.5733          \n",
       "   Detection Prevalence : 0.8133          \n",
       "      Balanced Accuracy : 0.5700          \n",
       "                                          \n",
       "       'Positive' Class : 0               \n",
       "                                          "
      ]
     },
     "metadata": {},
     "output_type": "display_data"
    }
   ],
   "source": [
    "library(caret)\n",
    "confusionMatrix(factor(p) , factor(vdata$admit))\n"
   ]
  },
  {
   "cell_type": "code",
   "execution_count": null,
   "metadata": {},
   "outputs": [],
   "source": []
  }
 ],
 "metadata": {
  "kernelspec": {
   "display_name": "R",
   "language": "R",
   "name": "ir"
  },
  "language_info": {
   "codemirror_mode": "r",
   "file_extension": ".r",
   "mimetype": "text/x-r-source",
   "name": "R",
   "pygments_lexer": "r",
   "version": "3.6.1"
  }
 },
 "nbformat": 4,
 "nbformat_minor": 4
}
